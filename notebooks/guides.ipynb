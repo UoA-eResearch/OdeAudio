{
 "cells": [
  {
   "cell_type": "code",
   "execution_count": null,
   "id": "7470c736-8caa-4cc0-9b44-2373b8aeddf6",
   "metadata": {
    "tags": []
   },
   "outputs": [],
   "source": [
    "import seaborn as sns\n",
    "import matplotlib.pyplot as plt\n",
    "import numpy as np"
   ]
  },
  {
   "cell_type": "code",
   "execution_count": null,
   "id": "6519c45a-386e-4a7b-b68b-764413d6ef4a",
   "metadata": {
    "tags": []
   },
   "outputs": [],
   "source": [
    "# So to summarise, you could plot the curves \n",
    "# cA+cB=eA+eB\n",
    "# cA*cA*cB=eA*eA*eB\n",
    "# cA*eA=cB*eB."
   ]
  },
  {
   "cell_type": "code",
   "execution_count": null,
   "id": "4e1f16ac-4fc5-402a-a6ec-e04e60d3571c",
   "metadata": {
    "tags": []
   },
   "outputs": [],
   "source": [
    "eA = 1.0\n",
    "eB = 0.8"
   ]
  },
  {
   "cell_type": "code",
   "execution_count": null,
   "id": "2c06212f-71bc-49e7-8bb3-86a6aec0ac4d",
   "metadata": {
    "tags": []
   },
   "outputs": [],
   "source": [
    "# cA+cB=eA+eB\n",
    "cB = np.linspace(0, 2)\n",
    "cA = (eA + eB) - cB\n",
    "\n",
    "ax = sns.lineplot(x=cB, y=cA)\n",
    "ax.set_ybound(0,2)\n",
    "ax.set_xbound(0,2)\n",
    "\n",
    "plt.show()"
   ]
  },
  {
   "cell_type": "code",
   "execution_count": null,
   "id": "ed2b05af-64ab-4f0c-8bf1-fbc76fd373ae",
   "metadata": {
    "tags": []
   },
   "outputs": [],
   "source": [
    "# cA*cA*cB=eA*eA*eB\n",
    "cB = np.linspace(0, 2)\n",
    "cA = np.sqrt(cB * eA * eA * eB)\n",
    "\n",
    "ax = sns.lineplot(x=cB, y=cA)\n",
    "ax.set_ybound(0,2)\n",
    "ax.set_xbound(0,2)\n",
    "\n",
    "plt.show()"
   ]
  },
  {
   "cell_type": "code",
   "execution_count": null,
   "id": "9caa121a-236b-40b1-86fa-eed03c24f399",
   "metadata": {
    "tags": []
   },
   "outputs": [],
   "source": [
    "# cA*eA=cB*eB\n",
    "cB = np.linspace(0, 2)\n",
    "cA = (cB * eB) / eA\n",
    "\n",
    "ax = sns.lineplot(x=cB, y=cA)\n",
    "ax.set_ybound(0,2)\n",
    "ax.set_xbound(0,2)\n",
    "\n",
    "plt.show()"
   ]
  },
  {
   "cell_type": "code",
   "execution_count": null,
   "id": "70578c5e-7940-46c5-a436-aab84c0589d6",
   "metadata": {
    "tags": []
   },
   "outputs": [],
   "source": [
    "# cA+cB=eA+eB\n",
    "cB = np.linspace(0, 2)\n",
    "cA1 = (eA + eB) - cB\n",
    "cA2 = np.sqrt(cB * eA * eA * eB)\n",
    "cA3 = (cB * eB) / eA\n",
    "\n",
    "ax = sns.lineplot(x=cB, y=cA1)\n",
    "ax = sns.lineplot(x=cB, y=cA2)\n",
    "ax = sns.lineplot(x=cB, y=cA3)\n",
    "ax.set_ybound(0,2)\n",
    "ax.set_xbound(0,2)\n",
    "\n",
    "ax.set_xlabel('cB')\n",
    "ax.set_ylabel('cA')\n",
    "\n",
    "plt.show()"
   ]
  },
  {
   "cell_type": "code",
   "execution_count": null,
   "id": "8af70157-6046-412e-ab74-f94f335dd839",
   "metadata": {
    "tags": []
   },
   "outputs": [],
   "source": [
    "# cA+cB=eA+eB\n",
    "# cA*cA*eB=eA*eA*cB\n",
    "# cA*eA=cB*eB.\n",
    "cA = np.linspace(0.01, 2)\n",
    "cB1 = eA + eB - cA\n",
    "cB2 = (eA ** 2 * eB) / (cA ** 2)\n",
    "cB3 = (cA * eA) / eB\n",
    "\n",
    "ax = sns.lineplot(x=cA, y=cB1, c='blue')\n",
    "ax = sns.lineplot(x=cA, y=cB2, c='orange')\n",
    "ax = sns.lineplot(x=cA, y=cB3, c='green')\n",
    "ax.set_ybound(0,2)\n",
    "ax.set_xbound(0,2)\n",
    "\n",
    "ax.set_xlabel('cB')\n",
    "ax.set_ylabel('cA')\n",
    "\n",
    "plt.savefig('guides.png')\n",
    "plt.show()"
   ]
  }
 ],
 "metadata": {
  "kernelspec": {
   "display_name": "Python 3 (ipykernel)",
   "language": "python",
   "name": "python3"
  },
  "language_info": {
   "codemirror_mode": {
    "name": "ipython",
    "version": 3
   },
   "file_extension": ".py",
   "mimetype": "text/x-python",
   "name": "python",
   "nbconvert_exporter": "python",
   "pygments_lexer": "ipython3",
   "version": "3.11.4"
  }
 },
 "nbformat": 4,
 "nbformat_minor": 5
}
