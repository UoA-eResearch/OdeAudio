{
 "cells": [
  {
   "cell_type": "code",
   "execution_count": null,
   "id": "a125f058-79ea-448e-9e22-4d278fb66302",
   "metadata": {
    "tags": []
   },
   "outputs": [],
   "source": [
    "%load_ext autoreload\n",
    "%autoreload 2"
   ]
  },
  {
   "cell_type": "code",
   "execution_count": null,
   "id": "a9f12bbc-ff94-4973-a415-ad9a423a302d",
   "metadata": {
    "tags": []
   },
   "outputs": [],
   "source": [
    "import pandas as pd\n",
    "from matplotlib import pyplot as plt\n",
    "import seaborn as sns\n",
    "import numpy as np"
   ]
  },
  {
   "cell_type": "code",
   "execution_count": null,
   "id": "9b062bf5-476e-42b2-a60d-1aa11e425cca",
   "metadata": {
    "tags": []
   },
   "outputs": [],
   "source": [
    "# parameter & variable names\n",
    "pars = ['cA', 'cB', 'eA', 'eB']\n",
    "vars = ['d0', 'd1', 'd2', 'd3', 'd4']\n",
    "vars2 = ['f0', 'f1', 'f2', 'f3', 'f4']"
   ]
  },
  {
   "cell_type": "code",
   "execution_count": null,
   "id": "5fe49326-5a9c-4698-b16a-042e44c93c26",
   "metadata": {
    "tags": []
   },
   "outputs": [],
   "source": [
    "# Detect parameter changes\n",
    "def par_changes(df):\n",
    "    changes = df[pars].diff().any(axis=1)\n",
    "    \n",
    "    return df[changes].index.tolist()"
   ]
  },
  {
   "cell_type": "code",
   "execution_count": null,
   "id": "31f1427f-f887-4acc-8270-ba8f05f9613a",
   "metadata": {
    "tags": []
   },
   "outputs": [],
   "source": [
    "df = pd.read_csv('traces/trace_156.csv')\n",
    "# df = pd.read_csv('traces/trace_139.csv')"
   ]
  },
  {
   "cell_type": "code",
   "execution_count": null,
   "id": "de14a6dc-4927-4217-9d16-be31891a2863",
   "metadata": {
    "tags": []
   },
   "outputs": [],
   "source": [
    "# Optional transform\n",
    "df[vars] = 2 * (np.exp(df[vars]) - 0.5)"
   ]
  },
  {
   "cell_type": "code",
   "execution_count": null,
   "id": "913577bf-6d27-4a97-9dbd-3b036d5c8672",
   "metadata": {
    "tags": []
   },
   "outputs": [],
   "source": [
    "df.head()"
   ]
  },
  {
   "cell_type": "code",
   "execution_count": null,
   "id": "c1ba31d5-6be7-4671-8934-05934a305c5b",
   "metadata": {
    "tags": []
   },
   "outputs": [],
   "source": [
    "# Plot vars near each change\n",
    "changes = par_changes(df)\n",
    "fig, axs = plt.subplots(max(2,len(changes)), 3, figsize=(17,12))\n",
    "\n",
    "window = 500\n",
    "\n",
    "for i, idx in enumerate(changes):\n",
    "    sns.lineplot(df.loc[idx-window:idx+3*window, vars2].fillna(1), ax=axs[i][1])\n",
    "    sns.lineplot(df.loc[idx-window:idx+3*window, vars2].diff(), ax=axs[i][2])\n",
    "    sns.lineplot(df.loc[idx-window:idx+3*window, pars], ax=axs[i][0])"
   ]
  },
  {
   "cell_type": "code",
   "execution_count": null,
   "id": "adb2fba1-7d57-4229-9b5d-07130dc7c63f",
   "metadata": {
    "tags": []
   },
   "outputs": [],
   "source": [
    "fig, axs = plt.subplots(5,1, figsize=(17,12))\n",
    "\n",
    "for i, v in enumerate(vars2):\n",
    "    sns.lineplot(df.loc[idx-window:idx+window, v].fillna(1), ax=axs[i])\n"
   ]
  },
  {
   "cell_type": "code",
   "execution_count": null,
   "id": "2e83c660-382e-491b-8ec2-9fb5e0298b5b",
   "metadata": {
    "tags": []
   },
   "outputs": [],
   "source": [
    "fig, axs = plt.subplots(5,1, figsize=(17,12))\n",
    "\n",
    "for i, v in enumerate(vars2):\n",
    "    sns.lineplot(df.loc[idx-window:idx+window, v].diff(), ax=axs[i])\n"
   ]
  },
  {
   "cell_type": "code",
   "execution_count": null,
   "id": "d1863b95-5782-40d1-8008-1653e991f204",
   "metadata": {
    "tags": []
   },
   "outputs": [],
   "source": [
    "ax = sns.lineplot(df.loc[:, vars].diff())\n",
    "ax.set_ylim(-2, 2)"
   ]
  },
  {
   "cell_type": "code",
   "execution_count": null,
   "id": "dd3f3fb8-c05b-4c4e-9abc-7fe26387fc11",
   "metadata": {
    "tags": []
   },
   "outputs": [],
   "source": [
    "# Pop filter?\n",
    "d0 = df['d1'].to_numpy()"
   ]
  },
  {
   "cell_type": "code",
   "execution_count": null,
   "id": "51f07dad-a053-4aaa-8dc5-757e8295e5bb",
   "metadata": {
    "tags": []
   },
   "outputs": [],
   "source": [
    "idxs = slice(40000,50000)"
   ]
  },
  {
   "cell_type": "code",
   "execution_count": null,
   "id": "28d98396-9220-40d1-8831-3e0030f67b47",
   "metadata": {
    "tags": []
   },
   "outputs": [],
   "source": [
    "idxs = slice(3990,4010)"
   ]
  },
  {
   "cell_type": "code",
   "execution_count": null,
   "id": "b141540f-191d-4a0d-8e20-72a0e337fa0b",
   "metadata": {
    "tags": []
   },
   "outputs": [],
   "source": [
    "sns.lineplot(d0[idxs])"
   ]
  },
  {
   "cell_type": "code",
   "execution_count": null,
   "id": "b5a64c0d-1b41-4687-87f1-65bc0fb73d33",
   "metadata": {
    "tags": []
   },
   "outputs": [],
   "source": [
    "sns.lineplot(np.convolve(d0[idxs], [.33,.33,.33], mode='same'))"
   ]
  },
  {
   "cell_type": "code",
   "execution_count": null,
   "id": "afe9fbc6-372d-472f-8e23-9127d3eead09",
   "metadata": {
    "tags": []
   },
   "outputs": [],
   "source": [
    "diff = np.abs(d0[1:] - d0[:-1])\n",
    "sns.lineplot(diff)"
   ]
  },
  {
   "cell_type": "code",
   "execution_count": null,
   "id": "ee066ae1-713e-45e7-bd10-e0fcd8e2d89c",
   "metadata": {
    "tags": []
   },
   "outputs": [],
   "source": [
    "smudge = np.convolve(diff > 0.5, [.1, .2, .5, .2, .1])\n",
    "sns.lineplot(np.diff(smudge))"
   ]
  },
  {
   "cell_type": "code",
   "execution_count": null,
   "id": "9321e7d8-fa13-4e1b-b1a5-d3b3c7da709a",
   "metadata": {
    "tags": []
   },
   "outputs": [],
   "source": [
    "diff.max()"
   ]
  },
  {
   "cell_type": "code",
   "execution_count": null,
   "id": "5ea7c286-100d-4c6c-9747-f75f5d3c1c66",
   "metadata": {
    "tags": []
   },
   "outputs": [],
   "source": [
    "changes"
   ]
  },
  {
   "cell_type": "code",
   "execution_count": null,
   "id": "c1991ba9-03ba-406c-8611-302706b187a0",
   "metadata": {
    "tags": []
   },
   "outputs": [],
   "source": [
    "df['d0'].diff().value_counts()"
   ]
  },
  {
   "cell_type": "code",
   "execution_count": null,
   "id": "687925f3-8d13-4427-adf2-4757f93c4f1b",
   "metadata": {
    "tags": []
   },
   "outputs": [],
   "source": [
    "import sounddevice as sd"
   ]
  },
  {
   "cell_type": "code",
   "execution_count": null,
   "id": "79002da3-8ddc-4c97-846e-c2b00b785079",
   "metadata": {
    "tags": []
   },
   "outputs": [],
   "source": [
    "df.head()"
   ]
  },
  {
   "cell_type": "code",
   "execution_count": null,
   "id": "18e045d8-2860-465b-a692-659b40ef11db",
   "metadata": {
    "tags": []
   },
   "outputs": [],
   "source": [
    "sd.play(df['f1'], 1200)"
   ]
  },
  {
   "cell_type": "code",
   "execution_count": null,
   "id": "7621c351-cfe2-4446-be88-fb3b1fba8854",
   "metadata": {
    "tags": []
   },
   "outputs": [],
   "source": [
    "for idx in changes:\n",
    "    print(idx)\n",
    "    sd.play(df.loc[idx-window:idx+2*window, 'f0'], samplerate=1000)\n",
    "    sd.wait()"
   ]
  },
  {
   "cell_type": "code",
   "execution_count": null,
   "id": "3424cdab-b484-42b5-bee5-93f2640c5faf",
   "metadata": {
    "tags": []
   },
   "outputs": [],
   "source": [
    "sd.play(smooth(df.loc[idx-window:idx+window, v].fillna(method='bfill').to_numpy() - st), samplerate=1000)"
   ]
  },
  {
   "cell_type": "code",
   "execution_count": null,
   "id": "816506f1-2076-44ed-921a-20e71b534076",
   "metadata": {
    "tags": []
   },
   "outputs": [],
   "source": [
    "window=1000\n",
    "idx = changes[0]\n",
    "v = 'f2'\n",
    "st = df.loc[idx-window, v]\n",
    "\n",
    "sd.play(df.loc[idx-window:idx+window, v].fillna(method='bfill') - st, samplerate=1000)\n",
    "\n",
    "\n",
    "plt.figure(figsize=(20,6))\n",
    "ax = sns.lineplot(df.loc[idx-window:idx+window, v].fillna(1))\n",
    "ax.set_ylim(-1.5, 1.5)\n",
    "# ax.set_xlim(40040, 40060)\n",
    "ax = sns.lineplot(df.loc[idx-window:idx+window, v].fillna(method='bfill').diff())\n",
    "\n",
    "# ax = sns.lineplot(df.loc[idx-window:idx+window, v].diff().diff())\n",
    "# ax = sns.lineplot(df.loc[idx-window:idx+window, v].diff().diff().diff())\n",
    "ax.set_xlim(idx-window, idx+window)"
   ]
  },
  {
   "cell_type": "code",
   "execution_count": null,
   "id": "c8d4945e-801e-42ab-aef8-54984974178b",
   "metadata": {
    "tags": []
   },
   "outputs": [],
   "source": [
    "sns.lineplot(df.loc[20000:20100, v])\n",
    "sns.lineplot(df.loc[20000:20100, v].diff())"
   ]
  },
  {
   "cell_type": "code",
   "execution_count": null,
   "id": "903c0bf9-3ff1-4ee1-a81d-cf4926f17d65",
   "metadata": {
    "tags": []
   },
   "outputs": [],
   "source": [
    "sample = df.loc[20000:20100, v].to_numpy()\n",
    "sd.play(sample, 1200)"
   ]
  },
  {
   "cell_type": "code",
   "execution_count": null,
   "id": "a0b0dea6-0bab-4f05-8e90-d3f98d944f88",
   "metadata": {
    "tags": []
   },
   "outputs": [],
   "source": [
    "def smooth(sample):\n",
    "    diff = np.diff(sample)\n",
    "    for i in range(len(sample)-1):\n",
    "        if abs(diff[i]) > 0.5:\n",
    "            diff[i-2] += 0.2 * diff[i]\n",
    "            diff[i-1] += 0.2 * diff[i]\n",
    "            diff[i+1] += 0.2 * diff[i]\n",
    "            diff[i+2] += 0.2 * diff[i]\n",
    "            diff[i] *= 0.2\n",
    "\n",
    "    return np.cumsum(diff) + sample[0]"
   ]
  },
  {
   "cell_type": "code",
   "execution_count": null,
   "id": "5b506182-53e9-4931-aef0-b29efd19febe",
   "metadata": {
    "tags": []
   },
   "outputs": [],
   "source": [
    "sns.lineplot(out)\n",
    "sns.lineplot(np.diff(out))"
   ]
  },
  {
   "cell_type": "code",
   "execution_count": null,
   "id": "b4189b58-ea68-42c1-8021-10c14c72c21f",
   "metadata": {
    "tags": []
   },
   "outputs": [],
   "source": [
    "sd.play(out,1000)"
   ]
  },
  {
   "cell_type": "code",
   "execution_count": null,
   "id": "48914c35-3f13-45d6-a489-d2ff3383bae7",
   "metadata": {
    "tags": []
   },
   "outputs": [],
   "source": [
    "df.head()"
   ]
  },
  {
   "cell_type": "code",
   "execution_count": null,
   "id": "59ede226-4e63-4410-a50c-0da48245aa44",
   "metadata": {
    "tags": []
   },
   "outputs": [],
   "source": [
    "print(idx-window, idx+window)"
   ]
  },
  {
   "cell_type": "code",
   "execution_count": null,
   "id": "75137081-de28-4b1f-b38b-f8cbcf6e24c1",
   "metadata": {},
   "outputs": [],
   "source": [
    "# Test grad removal + cumsum, then test smoothing"
   ]
  },
  {
   "cell_type": "code",
   "execution_count": null,
   "id": "a3f0cbee-0111-4064-a792-7f1948480234",
   "metadata": {
    "tags": []
   },
   "outputs": [],
   "source": [
    "def rev(x):\n",
    "    return np.log((x/2) + 0.5)"
   ]
  },
  {
   "cell_type": "code",
   "execution_count": null,
   "id": "68fc0ce4-f996-483c-ba6b-b3c5c93f9dcb",
   "metadata": {
    "tags": []
   },
   "outputs": [],
   "source": [
    "pd.set_option('display.max_rows', 3000)"
   ]
  },
  {
   "cell_type": "code",
   "execution_count": null,
   "id": "f70ad8ec-9151-4556-bb3d-ba104269dae8",
   "metadata": {
    "tags": []
   },
   "outputs": [],
   "source": [
    "df.loc[220155:220162,:]"
   ]
  },
  {
   "cell_type": "code",
   "execution_count": null,
   "id": "87ad3f8d-f48d-436a-ab40-44c844c24b5b",
   "metadata": {
    "tags": []
   },
   "outputs": [],
   "source": [
    "df.loc[220100:220200,:].fillna(method='bfill')"
   ]
  },
  {
   "cell_type": "code",
   "execution_count": null,
   "id": "4791f7ca-49e4-4104-b591-3317d510d5cb",
   "metadata": {
    "tags": []
   },
   "outputs": [],
   "source": [
    "df.loc[idx-window:idx+window,:].fillna(method='bfill')"
   ]
  },
  {
   "cell_type": "code",
   "execution_count": null,
   "id": "27ee89d8-e640-4878-a22c-85de8c549edc",
   "metadata": {
    "tags": []
   },
   "outputs": [],
   "source": [
    "ax = sns.lineplot(df.loc[idx-20:idx+20, vars])\n",
    "# ax.set_ylim(-5, 5)\n",
    "# ax.set_xlim(40040, 40060)"
   ]
  },
  {
   "cell_type": "code",
   "execution_count": null,
   "id": "372815e8-bbfe-4ec8-8880-0f5f2a1dbce8",
   "metadata": {
    "tags": []
   },
   "outputs": [],
   "source": [
    "ax = sns.lineplot(df.loc[idx-window:idx+window, vars].diff())\n",
    "ax.set_ylim(-5, 5)\n",
    "# ax.set_xlim(40040, 40060)"
   ]
  }
 ],
 "metadata": {
  "kernelspec": {
   "display_name": "Python 3 (ipykernel)",
   "language": "python",
   "name": "python3"
  },
  "language_info": {
   "codemirror_mode": {
    "name": "ipython",
    "version": 3
   },
   "file_extension": ".py",
   "mimetype": "text/x-python",
   "name": "python",
   "nbconvert_exporter": "python",
   "pygments_lexer": "ipython3",
   "version": "3.11.4"
  }
 },
 "nbformat": 4,
 "nbformat_minor": 5
}
